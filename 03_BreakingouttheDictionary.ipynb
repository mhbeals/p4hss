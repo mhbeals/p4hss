{
 "cells": [
  {
   "cell_type": "markdown",
   "metadata": {},
   "source": [
    "# Breaking Out the Dictionary"
   ]
  },
  {
   "cell_type": "markdown",
   "metadata": {},
   "source": [
    "Let's begin our lesson today but reviewing the previous workshop on importing and export data, and then cleaning it.\n",
    "\n",
    "In the box below, import the data from the 'taleoftwocities.txt' file and any other Gutenberg book you like (I suggest http://www.gutenberg.org/files/2148/2148.txt) as two separate strings.  \n",
    "\n",
    "Remember, to work with exisiting files, you'll need the following format:\n",
    "\n",
    "    with open('filename.txt', 'r') as file:\n",
    "        data = file.read()\n",
    "        \n",
    "and to download a new file, you'll need to use \n",
    "\n",
    "    import requests\n",
    "    data = requests.get(\"http://www.url.com/file.txt\")\n",
    "    data = data.text\n",
    "    "
   ]
  },
  {
   "cell_type": "code",
   "execution_count": null,
   "metadata": {},
   "outputs": [],
   "source": []
  },
  {
   "cell_type": "markdown",
   "metadata": {},
   "source": [
    "Then clean these by \n",
    "\n",
    "+ removing punctuation\n",
    "  \n",
    "    `import re`  \n",
    "    `my_string = re.sub('[^\\w^\\s]*','',data)`  \n",
    "      \n",
    "    \n",
    "+ making lower case: \n",
    "    \n",
    "    `my_string = my_string.lower()`    "
   ]
  },
  {
   "cell_type": "code",
   "execution_count": null,
   "metadata": {},
   "outputs": [],
   "source": []
  },
  {
   "cell_type": "markdown",
   "metadata": {},
   "source": [
    "Finally, let's remove those headers, so our statistics aren't thrown off! Use the standard code below, changing the name of your variables as needed:"
   ]
  },
  {
   "cell_type": "code",
   "execution_count": null,
   "metadata": {},
   "outputs": [],
   "source": []
  },
  {
   "cell_type": "markdown",
   "metadata": {},
   "source": [
    "## Creating a Dictionary\n",
    "\n",
    "A dictionary is a special sort of list that has a list of *key* entries, each with its own value&mdash;like a dictionary.  \n",
    "\n",
    "You can also think of it like this. Imagine an index card with two words on it, a *key* in the corner and a *value* or text in the centre. If you have hundreds of these cards, each with a different key, you can place them in a single box.  That box is the dictionary and each card is a two-value list within it.\n",
    "\n",
    "So, if we want to know how often a particular ngram appears in the larger text, we can make a list of all the different (unique) ngrams with each with its own tally of instances.\n",
    "\n",
    "First, we'll need to split our strings into a word list and transform it into an ngram. Do this by running the concordance software we created last time (below) changing the variables as apprporiate to whichever text you'd like to work with first."
   ]
  },
  {
   "cell_type": "code",
   "execution_count": null,
   "metadata": {},
   "outputs": [],
   "source": []
  },
  {
   "cell_type": "markdown",
   "metadata": {},
   "source": [
    "Now we first need to create a new dictionary, which we'll call `count`.  You assign a black dictionary using a pair of empty `{}`, curly brackets."
   ]
  },
  {
   "cell_type": "code",
   "execution_count": null,
   "metadata": {},
   "outputs": [],
   "source": []
  },
  {
   "cell_type": "markdown",
   "metadata": {},
   "source": [
    "You then need to create a simple *for loop* which goes through every ngram in your ngram list (that you created above).  For each entry you need a bit of code that does two things:\n",
    "\n",
    "+ Adds a new entry (key and value) to the dictionary\n",
    "+ If that key already exists, add one to the value\n",
    "\n",
    "This is a lot simpler than you think!  \n",
    "\n",
    "First, let's remember our simple operations.  If you had a variable with a value of 0, and you wanted to add 1 to it, you would simply write:\n",
    "\n",
    "`variable = variable + 1`\n",
    "\n",
    "But how do you create that variable in the first place? Well, luckily, to add a new value to a dictionary, you just need to assign a value to a key in the exact same way that you change a value:\n",
    "\n",
    "`dictionary_name[key_name] = value`\n",
    "\n",
    "Look familiar? Just like you can use and index number to access a particular letter in a string or an item in a list, you can use a *key* to access a certain entry in a dictionary. So, if, for each ngram in your ngram list, you wanted to add a new value, you would just use\n",
    "\n",
    "`count[ngram] = 0`\n",
    "\n",
    "But this would keep resetting the value to zero. Instead, you can use the `x.get(y,z)` function to \n",
    "\n",
    "+ check to see if that key (y) exists\n",
    "+ if it doesn't, create the variable with a predetermined value (z)\n",
    "+ if it does, just retrieve the value\n",
    "\n",
    "Thus `count.get(ngram, 0)` will get you the current value of that ngram.  You can then just `+1` and assign the whole lot to that variable, `count[ngram]`. \n",
    "\n",
    "Try it out below.\n",
    "\n",
    "+ Create a for loop to go through your ngram list\n",
    "+ Create a assignation that retrieves the value of that ngram (or assigns it to zero) and adds one"
   ]
  },
  {
   "cell_type": "code",
   "execution_count": null,
   "metadata": {},
   "outputs": [],
   "source": []
  },
  {
   "cell_type": "markdown",
   "metadata": {},
   "source": [
    "Now that we have this handy dictionary of all our ngrams, let us display the ones that are most interesting&mdash;the ones with the most instances. \n",
    "\n",
    "Because this is a small text, it is incredibly unlikely that any set of words will appear more than 100 times, so let us start there.\n",
    "\n",
    "Create a standard while loop counter, but instead of starting at 0, set `i` to 100.  \n",
    "\n",
    "Then, within this loop, you'll need to pull out the key and value of each entry. You can do this with the `items()` function.  On its own, this function would return every pair in the dictionary as a list.  However, you can create a for loop for a dictionary the same way you would for a list:\n",
    "\n",
    "    for ngram,tally in count.items():\n",
    "            do something\n",
    "\n",
    "In the box below, create a while loop that starts at 100 and moves down to 0. \n",
    "\n",
    "Within that loop, use the `items()` function to go through each dictionary item and \n",
    "\n",
    "+ check if that ngram has a tally of the same value as i&mdash; this will essentially sort the list, highest to lowest\n",
    "+ if it does, print that ngram and tally however you like\n",
    "\n",
    "***Note*: Make sure your for loop and your `i` count down have the same indentation!**\n",
    "            "
   ]
  },
  {
   "cell_type": "code",
   "execution_count": null,
   "metadata": {},
   "outputs": [],
   "source": []
  },
  {
   "cell_type": "markdown",
   "metadata": {},
   "source": [
    "Great job! But let's be a bit more precise. Let's only show those that match a certain critera.\n",
    "\n",
    "Perhaps you only want ngrams that include the word \"black\".  How would you do this? Really it is as simple as asking\n",
    "\n",
    "    if 'this' in ngram\n",
    "\n",
    "Once you have that formula, recreate your while/for/if/print programme below. But, instead of your one `if` condition, you'll need to `and` followed by a second condition:\n",
    "   \n",
    "`if this == that and \"this_other_thing\" == \"that_other_thing\":`\n",
    "\n",
    "Try it out!"
   ]
  },
  {
   "cell_type": "code",
   "execution_count": null,
   "metadata": {},
   "outputs": [],
   "source": []
  },
  {
   "cell_type": "markdown",
   "metadata": {},
   "source": [
    "Finally, build a dictionary (count) of all the ngrams in your text but only displays all the entries with at least **2** instances.\n",
    "\n",
    "Wait! Why print when you can save?  Doesn't that make more sense?  Instead of finishing your loop with a print command, save the data (the key and tally) to a string.  \n",
    "\n",
    "`dictionary_data = dictionary_data + key + \",\" + tally + \"\\n\"`\n",
    "\n",
    "You'll have to create \n",
    "\n",
    "the `\",\"` will insert a comma between the key and the tally while the `\"\\n\"` will add a line break between each entry.  You'll end up with one long string with all your values.\n",
    "\n",
    "Now, save that to a file...\n",
    "    \n",
    "    with open('filename.txt', 'w') as file:\n",
    "        file.write(dictionary_data)"
   ]
  },
  {
   "cell_type": "code",
   "execution_count": null,
   "metadata": {},
   "outputs": [],
   "source": []
  }
 ],
 "metadata": {
  "kernelspec": {
   "display_name": "Python 3",
   "language": "python",
   "name": "python3"
  },
  "language_info": {
   "codemirror_mode": {
    "name": "ipython",
    "version": 3
   },
   "file_extension": ".py",
   "mimetype": "text/x-python",
   "name": "python",
   "nbconvert_exporter": "python",
   "pygments_lexer": "ipython3",
   "version": "3.5.4"
  }
 },
 "nbformat": 4,
 "nbformat_minor": 2
}
