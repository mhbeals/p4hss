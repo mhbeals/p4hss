{
  "cells": [
    {
      "metadata": {
        "collapsed": true
      },
      "cell_type": "markdown",
      "source": "# Imports and Exports\n\nFirst, let us recap last week's concordance programme.  \n\nI asked you to create a programme to display every instance of the word \"to\" in our sample sentence, in the context of the word immediately before and after it. I suggested that you use:\n\n+ a List\n+ an Iterator / While Loop\n+ the .join() and .append() Functions\n+ a For Loop\n+ the Print Function\n\nReconstruct your programme below to ensure you've remembered all the concepts we covered:"
    },
    {
      "metadata": {
        "trusted": true
      },
      "cell_type": "code",
      "source": "my_string = \"The time has come for all good men to come to the aid of their country\"\n",
      "execution_count": 34,
      "outputs": []
    },
    {
      "metadata": {},
      "cell_type": "markdown",
      "source": "## Cleaning our data\n\nWonderful!  Because we were using a relatively simple sentence, we did not need to clean our data. If we use a longer passage, such as the first chapters of \"A Tale of Two Cities\", we will need to do a bit more prepatory work.\n\nSo, let's try that again but with a bit more grace.  First, we'll need to import the `re` library, short for Regex, or Regular Expressions. This library provides new functions for finding and replacing text in your dataset. \n\nTo import a standard Python library, you need only use the command `import` followed by the library name, in this case `re`. Import the library below."
    },
    {
      "metadata": {
        "trusted": true
      },
      "cell_type": "code",
      "source": "",
      "execution_count": null,
      "outputs": []
    },
    {
      "metadata": {},
      "cell_type": "markdown",
      "source": "Next we'll need to run two extra steps on our string before we split it into words:\n\n+ Remove punctuation\n+ Standardise the case\n\nIn the box below, I have included a string, `my_string` that contains a direct copy of the first chapter of Dickens's *A Tale of Two Cities*.  On the subsequent line, you'll need to use the function `re.sub()` to remove the punctuation marks.  A simple (if slightly blunt) way of doing this is through negative critera.  \n\nWe'll use three standard *regular expressions*\n\n+ `[]` &mdash; putting a regular expression in square brackets indicates it should search for any of the items within it\n+ `\\w` &mdash; any word\n+ `\\s` &mdash; any whitespace\n+ `^` &mdash; not\n+ `*` &mdash; 0 or more times\n\nto create the expression `[`^\\w^\\s`]*`, which translates to \"find anything that is not a word or a whitespace zero or more times\". You need the \"zero or more times\" in case there are two punctuation marks together.\n\nWe then place this in the `re.sub(x, y, z)` funciton, where \n\n+ x is the regular expression, \n+ y is what you want to replace it with in single quotation marks (in this case nothing, or `''`)\n+ z is the name of the string you are transforming.\n\nIn the box below, on the second line, reassign `my_string` to the `re.sub()` function, replacing x, y, and z as appropriate.\n\nUse a truncated print command&mdash;`print(my_string[0:100])`&mdash;to see if your transformation was successful."
    },
    {
      "metadata": {
        "trusted": true
      },
      "cell_type": "code",
      "source": "my_string = \"It was the best of times,  it was the worst of times,  it was the age of wisdom,  it was the age of foolishness,  it was the epoch of belief,  it was the epoch of incredulity,  it was the season of Light,  it was the season of Darkness,  it was the spring of hope,  it was the winter of despair,  we had everything before us,  we had nothing before us,  we were all going direct to Heaven,  we were all going direct the other way--  in short, the period was so far like the present period, that some of  its noisiest authorities insisted on its being received, for good or for  evil, in the superlative degree of comparison only.    There were a king with a large jaw and a queen with a plain face, on the  throne of England; there were a king with a large jaw and a queen with  a fair face, on the throne of France. In both countries it was clearer  than crystal to the lords of the State preserves of loaves and fishes,  that things in general were settled for ever.    It was the year of Our Lord one thousand seven hundred and seventy-five.  Spiritual revelations were conceded to England at that favoured period,  as at this. Mrs. Southcott had recently attained her five-and-twentieth  blessed birthday, of whom a prophetic private in the Life Guards had  heralded the sublime appearance by announcing that arrangements were  made for the swallowing up of London and Westminster. Even the Cock-lane  ghost had been laid only a round dozen of years, after rapping out its  messages, as the spirits of this very year last past (supernaturally  deficient in originality) rapped out theirs. Mere messages in the  earthly order of events had lately come to the English Crown and People,  from a congress of British subjects in America: which, strange  to relate, have proved more important to the human race than any  communications yet received through any of the chickens of the Cock-lane  brood.    France, less favoured on the whole as to matters spiritual than her  sister of the shield and trident, rolled with exceeding smoothness down  hill, making paper money and spending it. Under the guidance of her  Christian pastors, she entertained herself, besides, with such humane  achievements as sentencing a youth to have his hands cut off, his tongue  torn out with pincers, and his body burned alive, because he had not  kneeled down in the rain to do honour to a dirty procession of monks  which passed within his view, at a distance of some fifty or sixty  yards. It is likely enough that, rooted in the woods of France and  Norway, there were growing trees, when that sufferer was put to death,  already marked by the Woodman, Fate, to come down and be sawn into  boards, to make a certain movable framework with a sack and a knife in  it, terrible in history. It is likely enough that in the rough outhouses  of some tillers of the heavy lands adjacent to Paris, there were  sheltered from the weather that very day, rude carts, bespattered with  rustic mire, snuffed about by pigs, and roosted in by poultry, which  the Farmer, Death, had already set apart to be his tumbrils of  the Revolution. But that Woodman and that Farmer, though they work  unceasingly, work silently, and no one heard them as they went about  with muffled tread: the rather, forasmuch as to entertain any suspicion  that they were awake, was to be atheistical and traitorous.    In England, there was scarcely an amount of order and protection to  justify much national boasting. Daring burglaries by armed men, and  highway robberies, took place in the capital itself every night;  families were publicly cautioned not to go out of town without removing  their furniture to upholsterers' warehouses for security; the highwayman  in the dark was a City tradesman in the light, and, being recognised and  challenged by his fellow-tradesman whom he stopped in his character of  “the Captain,” gallantly shot him through the head and rode away; the  mail was waylaid by seven robbers, and the guard shot three dead, and  then got shot dead himself by the other four, “in consequence of the  failure of his ammunition:” after which the mail was robbed in peace;  that magnificent potentate, the Lord Mayor of London, was made to stand  and deliver on Turnham Green, by one highwayman, who despoiled the  illustrious creature in sight of all his retinue; prisoners in London  gaols fought battles with their turnkeys, and the majesty of the law  fired blunderbusses in among them, loaded with rounds of shot and ball;  thieves snipped off diamond crosses from the necks of noble lords at  Court drawing-rooms; musketeers went into St. Giles's, to search  for contraband goods, and the mob fired on the musketeers, and the  musketeers fired on the mob, and nobody thought any of these occurrences  much out of the common way. In the midst of them, the hangman, ever busy  and ever worse than useless, was in constant requisition; now, stringing  up long rows of miscellaneous criminals; now, hanging a housebreaker on  Saturday who had been taken on Tuesday; now, burning people in the  hand at Newgate by the dozen, and now burning pamphlets at the door of  Westminster Hall; to-day, taking the life of an atrocious murderer,  and to-morrow of a wretched pilferer who had robbed a farmer's boy of  sixpence.    All these things, and a thousand like them, came to pass in and close  upon the dear old year one thousand seven hundred and seventy-five.  Environed by them, while the Woodman and the Farmer worked unheeded,  those two of the large jaws, and those other two of the plain and the  fair faces, trod with stir enough, and carried their divine rights  with a high hand. Thus did the year one thousand seven hundred  and seventy-five conduct their Greatnesses, and myriads of small  creatures--the creatures of this chronicle among the rest--along the  roads that lay before them.\"\n",
      "execution_count": 35,
      "outputs": []
    },
    {
      "metadata": {},
      "cell_type": "markdown",
      "source": "After removing all the punctuation, we'll need to regularise the case.  This is done by using the simple `x.lower()` function on your string, where x is the variable name.\n\nIn the box below, reassign my_string to a lowercase version of itself, and then split it into a word list using the `x.split()` function."
    },
    {
      "metadata": {
        "trusted": true
      },
      "cell_type": "code",
      "source": "",
      "execution_count": null,
      "outputs": []
    },
    {
      "metadata": {},
      "cell_type": "markdown",
      "source": "Let's check to see if our new text runs as smoothly as our old! Run the programme below and see your results!"
    },
    {
      "metadata": {
        "trusted": true
      },
      "cell_type": "code",
      "source": "ngram_list = []\ni = 1\n\nwhile i < len(my_words):\n    if i < len(my_words)-1:\n        ngram = ' '.join(my_words[(i-1):(i + 2)])\n        ngram_list.append(ngram)\n    i = i + 1\n    \ni = 0\nwhile i < 6:\n    print(ngram_list[i])\n    i = i+1",
      "execution_count": null,
      "outputs": []
    },
    {
      "metadata": {},
      "cell_type": "markdown",
      "source": "## Importing Data\n\nCongratulations, you are doing great!  Now, this is all well and good, but who has time to open an ebook and cut and paste a chapter into a string? Nobody, that's who.  So instead you'll need to learn how to open files that are already on your computer.  In the directory you closed, I included a full copy of a *A Tale of Two Cities* as `taleoftwocities.txt`. You can easily open and import the data from a file in the same directory using the `.read()` function:\n\n    with open('filename.txt', 'r') as filename:\n        data = filename.read()\n        \nLet's break that down. The first line is commanding the console to open a file called `filename.txt` in `r` or read mode. It is then creating a temporary variable called filename to store that information in.  We then just assign that information to a new string called data. \n\nYou have to use the function `.read()` because just assign `filename` would give you, in essence, the metadata about that file, rather than data itself.\n\nTry importing *A Tale of Two Cities* into a variable and then printing the first 500 characters.\n    "
    },
    {
      "metadata": {
        "trusted": true
      },
      "cell_type": "code",
      "source": "",
      "execution_count": null,
      "outputs": []
    },
    {
      "metadata": {},
      "cell_type": "markdown",
      "source": "Great! But isn't downloading and saving the file manually a drag?  Why not just grab it directly from Project Gutenburg?\n\nTo do this you'll need to import another library, this time `requests`\n\nOnce you've imported it, create a new data string, and assign it to `requests.get(\"x\")` where `x` is the full url of a Gutenburg book, such as http://www.gutenberg.org/files/102/102.txt\n\nOnce you've received the data, you'll need to encode it as text (Python just gets data, it doesn't ask any questions about that data).  To do this, assign your data string to a new text string using the suffix `.text`.  \n\n**Notice, there aren't any `()` because this isn't a function, its just encoding the data type.**\n\nPrint out the first 500 characters to see if it worked."
    },
    {
      "metadata": {
        "trusted": true
      },
      "cell_type": "code",
      "source": "",
      "execution_count": null,
      "outputs": []
    },
    {
      "metadata": {},
      "cell_type": "markdown",
      "source": "Let's finish up by running our concordance programme on our new text.  Remember, because this is a new string you'll need to clean it again:\n\n+ Remove the punctuation\n+ Make lower case\n+ split into words\n\nYou'll also probably want to remove the Gutenberg headers. You can do this using the following:\n\n    start = data.find('start of this project gutenberg ebook')\n    end = data.find('end of this project gutenberg ebook')\n    data = data[start+37:end-35] \n    \nCan you see what this is doing? It's finding the the index number for the first character of the first instance of these two lines of text (all Gutenberg books have these) and then using those numbers to truncated the string.\n\nNotice that the headers above are written in lowercase without punctuation? What does that mean for the order you need to clean in? \n\nAlso, we've had to add 37 to the start and subtract 35 from the end. Why did we do that?\n\nClean your data below"
    },
    {
      "metadata": {
        "trusted": true
      },
      "cell_type": "code",
      "source": "",
      "execution_count": null,
      "outputs": []
    },
    {
      "metadata": {},
      "cell_type": "markdown",
      "source": "Did it work? Print out the first 500 words, using the join function"
    },
    {
      "metadata": {
        "trusted": true
      },
      "cell_type": "code",
      "source": "",
      "execution_count": null,
      "outputs": []
    }
  ],
  "metadata": {
    "kernelspec": {
      "name": "python36",
      "display_name": "Python 3.6",
      "language": "python"
    },
    "language_info": {
      "mimetype": "text/x-python",
      "nbconvert_exporter": "python",
      "name": "python",
      "pygments_lexer": "ipython3",
      "version": "3.6.6",
      "file_extension": ".py",
      "codemirror_mode": {
        "version": 3,
        "name": "ipython"
      }
    }
  },
  "nbformat": 4,
  "nbformat_minor": 2
}