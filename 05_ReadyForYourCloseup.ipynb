{
  "cells": [
    {
      "metadata": {},
      "cell_type": "markdown",
      "source": "## Ready for your close up?\n\nNow that we've had some fun with text, why don't we give images a go?  There are many ways to import and manipulate images with python, but perhaps the most straightforward for us is to import the image data into a matplotlib figure.  This will allow you to combine image and graph data or simply to work with the images directly.  First, let's begin by importing the relevant libraries.  \n\nThe first we've met before, `matplotlib.pyplot`.  The second is `matplotlib.image`.  Just like `matplotlib.pyplot`, this is a sub-library and we can abbreviate to whatever we wish. The standard abbreviation (for some reason) is mpimg.\n"
    },
    {
      "metadata": {
        "trusted": true
      },
      "cell_type": "code",
      "source": "from matplotlib import pyplot as plt\nimport matplotlib.image as mpimg",
      "execution_count": 1,
      "outputs": []
    },
    {
      "metadata": {},
      "cell_type": "markdown",
      "source": "Now that we have the tools, we can begin to manipulate our images.\n\nThe first thing we need to do is import an image file.  You can use any `.png` image you like, but I've included a `sample.png` for you.  \n\nTo import, you'll need to create a new variable, and use the function mpimg.imread('filename.png') to load the data.\n\nThen you'll need to create a new pyplot figure.\n\nTo display the image, you do not use `plt.show()` as we did before. Instead the command is `plt.imshow(variable)`"
    },
    {
      "metadata": {
        "trusted": true
      },
      "cell_type": "code",
      "source": "",
      "execution_count": null,
      "outputs": []
    },
    {
      "metadata": {},
      "cell_type": "markdown",
      "source": "Now, if we assign this information to a variable (for example `img`) we'll be able to manipulate it computational.  \n\nIsn't she pretty?  Well, she's a bit difficult to see in black and white.  One way we can work with this is to apply a psuedo-colour-scheme.  This will essentially use the lightness-darkness value (the luminosity) in order to colourise the image. We do this by adding a new luminosity varible to our data with the command `img[:,:,0]`\n\nLet's break that down.  The first two parameters are for the index numbers. Remember? Just like the text!  Only these refer to the individual pixels in the image.  The third parameter basically says just take the first (or zero-th) value from each list of 3 RBG values.  Because the image is black and white, that will work just fine.\n\nNow, we want to display our new image, so assign a new variable with that command and then `imshow` it.\n\nWe can also add a `plt.colourbar()` to give us a indication of the spectrum."
    },
    {
      "metadata": {
        "trusted": true
      },
      "cell_type": "code",
      "source": "",
      "execution_count": null,
      "outputs": []
    },
    {
      "metadata": {},
      "cell_type": "markdown",
      "source": "Much better!  Now, if we look at the image, with our eyes, we can see that certain sections are coloured in different ways.  But that's old-school. Let's look at the image computationally.  We can create a histogram (a distribution graphy) from the image data that will let us know exactly how much of the graph is each colour.  \n\nTo do this we need to plot a histogram using a similar plt function to what we used before:\n\n    plt.hist(imagevariable.ravel(), bins = 265, range = (0,1))\n\nThis creates a histogram with the image variable's data (ravel converts it from a grid into a single line of data), and place each pixel's colour information in one of 265 bins (that's how many colours we are working with. It then puts it on a scale of 0 to 1 (a percentage up the colour scale).\n\nCreate this historgram and then show the graph (remember the old way of showing graphs!)\n    \n"
    },
    {
      "metadata": {
        "trusted": true
      },
      "cell_type": "code",
      "source": "",
      "execution_count": null,
      "outputs": []
    },
    {
      "metadata": {},
      "cell_type": "markdown",
      "source": "So what do we do with this information?  Well, now we can see exactly where most of the pixel's are, and we can narrow in one a particular range. See that first peak, from 0.1 to 0.4?  Let's take a closer look at that (dark) area?\n\nShow the image with the new parameter `clim=(.1,.4)`."
    },
    {
      "metadata": {
        "trusted": true
      },
      "cell_type": "code",
      "source": "",
      "execution_count": null,
      "outputs": []
    },
    {
      "metadata": {},
      "cell_type": "markdown",
      "source": "As you can see, the whole range of colours is now applied to what was previously just 30% of the range, bringing out a lot more detail.  Play around with different areas to highlight different sections!\n\nNow, some of this looks quite interesting! How do we zoom in?  That's easy.  Just add back in the [:,:] index numbers.  It's a bit non-intuitive, but the first numbers refer to the y or vertical axis, and the second is the x or horizontal axis.  Try using the numbers above to pull out just the background behind Lisa's right shoulder."
    },
    {
      "metadata": {
        "trusted": true
      },
      "cell_type": "code",
      "source": "",
      "execution_count": null,
      "outputs": []
    },
    {
      "metadata": {},
      "cell_type": "markdown",
      "source": "Fantastic!  Now have a go at clamp the colour scheme and cropping the image in different ways."
    }
  ],
  "metadata": {
    "kernelspec": {
      "name": "python36",
      "display_name": "Python 3.6",
      "language": "python"
    },
    "language_info": {
      "mimetype": "text/x-python",
      "nbconvert_exporter": "python",
      "name": "python",
      "pygments_lexer": "ipython3",
      "version": "3.6.6",
      "file_extension": ".py",
      "codemirror_mode": {
        "version": 3,
        "name": "ipython"
      }
    }
  },
  "nbformat": 4,
  "nbformat_minor": 2
}