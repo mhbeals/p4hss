{
  "cells": [
    {
      "metadata": {},
      "cell_type": "markdown",
      "source": "# Turning up the Heat(map)\n\nIn this lesson we will be taking our data and transforming it into a visualisation. To do this we will be using the incredibly powerful (and prolific) library *matplotlib*.  The important thing to remember is that this is only one tiny example of what this library can help you achieve&mdash;the only limit is your imaginiation. Let's begin, however, by reviewing our data.\n\nIn order to make an effective visualisation, we'll need some good quality data.  Our end goal is to have a dataset (namely a dictionary) in the following format:\n\n    x: [a, b, c, d, e]\n    \nwhere `x` represents a word in our text and `a-z` represent the index numbers of that word, or rather, the numerical representation of where that word appears in our text.  This will allow us to make a heatmap of the entire book, with coloured stripes at each appearance.  \n\nSo, were do we begin? Let's think about this backward.  To get a dictionary of all words and their apperance in the text, we'll first need to have a list of all the words in the text.\n\nWe'll also need to have that list regularised, to remove punctuation and casing.\n\nOf course, we'll also need the text itself, which means downloading a new book from Gutenberg and formatting it as a string and removing the headers. May I suggest http://www.gutenberg.org/files/37750/37750.txt?\n\nIs there anything I'm forgetting? Oh, yes! as a English text, there will be many (many) prepositions and articles that are not really that interesting for this particular visualisation, so we'll need to use a list of English *stop words* to help us focus our results.\n\nWith that review in mind, use the box below to:"
    },
    {
      "metadata": {
        "trusted": true
      },
      "cell_type": "code",
      "source": "# import libraries\n\nimport re\nimport requests\n\n# download the text\n\n\n# format the data as plain text\n\n\n# remove punctuation\n\n\n# make lower case\n\n\n# find the start of the header\n\n\n# find the start of the footer\n\n\n# trim of the header and footer from the text\n\n\n# split text into a word list\n\n\n# print it!\n",
      "execution_count": 22,
      "outputs": []
    },
    {
      "metadata": {},
      "cell_type": "markdown",
      "source": "Perfect! Now we need to make the dictionary we described above. So, let's think about what we need:\n\n    word: [a, b, c]\n    \nCreating a dictionary of words is pretty straight forward! We just need to go through our list of words and add each unique one to the dictionary. But what about the list of instances?  That's not as simple as just \"adding 1\" like we did last time.\n\nInstead, we'll need to create a new list for each *value*.  Remember, a value can be anything, a *string*, an *integer*, a *list*.  So, let's start with a new list, called list.\n\nNext, we'll need to determine if a list for that word already exists.  To do this, we'll assign the value of that key (using the *get* command) to a new variable, called entry.\n\nNow, our entry might be empty, so we'll have to test for that.  *If* it has no value (if entry == None), then it is just a matter of assiging a new list with that index number to that key.\n\nIf it's not (use the else command), we'll have to `.append()` the index number to the existing *entry* list before assiging *entry* to the key.\n\nOh wait! How do we get the index number?  There are many ways to go about that, but perhaps the easiest is just to keep track of which word we are on with a simple *i* variable.  Because we want to know the word number, lets set *i* as 1 rather than zero and after each loop throught the word list increment *i* by one.\n\nTry out your code below:"
    },
    {
      "metadata": {
        "trusted": true
      },
      "cell_type": "code",
      "source": "#create a blank dictionary\n\n\n#set your word number iterator to 1\n\n\n#create a for loop for your word list\n\n\n    #create a blank list for your index numbers\n    \n    \n    #assign the existing value for that key word to an entry variable\n    \n\n    #ask if that entry is None\n    \n\n        #if it is, assign a list of that word number [i] as the value of that key in your dictionary\n        \n        \n    #use the else command\n    \n        #append the new word number to your entry list\n        \n\n        #assign the expaned entry list as the value of that key in your dictionary\n        \n\n    # increase you iterator\n    \n    \n# print it!\n\n",
      "execution_count": 24,
      "outputs": []
    },
    {
      "metadata": {},
      "cell_type": "markdown",
      "source": "Well done.  Now, let's create two helper variables in the box below. \n\nThe first is a list of common English stop words (obtained from GitHub).  We'll call this *stop*.\n\nThe second is a wordcount of your word list.  Note, this is your word list, not your dictionary (which only has one copy of each word). We want to know how long the actual text is so we can make our graph the right length.  Also, because we are people, rather than computers, let's start out count at 1."
    },
    {
      "metadata": {
        "trusted": true
      },
      "cell_type": "code",
      "source": "stop = \"a,about,above,after,again,against,all,am,an,and,any,are,arent,as,at,be,because,been,before,being,below,between,both,but,by,cant,cannot,could,couldnt,did,didnt,do,does,doesnt,doing,dont,down,during,each,few,for,from,further,had,hadnt,has,hasnt,have,havent,having,he,hed,hell,hes,her,here,heres,hers,herself,him,himself,his,how,hows,i,id,ill,im,ive,if,in,into,is,isnt,it,its,its,itself,lets,me,more,most,mustnt,my,myself,no,nor,not,of,off,on,once,only,or,other,ought,our,ours \tourselves,out,over,own,same,shant,she,shed,shell,shes,should,shouldnt,so,some,such,than,that,thats,the,their,theirs,them,themselves,then,there,theres,these,they,theyd,theyll,theyre,theyve,this,those,through,to,too,under,until,up,very,was,wasnt,we,wed,well,were,weve,were,werent,what,whats,when,whens,where,wheres,which,while,who,whos,whom,why,whys,with,wont,would,wouldnt,you,youd,youll,youre,youve,your,yours,yourself,yourselves\"\nwordcount = len(my_words) + 1",
      "execution_count": 3,
      "outputs": []
    },
    {
      "metadata": {},
      "cell_type": "markdown",
      "source": "Now the fun begins.  If you want to create visualisations in Python, there are many (many) libraries that can assist you. However, one of the most commonly used (and best documented) is *matplotlib*.  This has many funcitons to create simple bar, scatter and line charts out of the box, but is much more powerful than that.  If you can imagine it in 2D, you can (probably) draw it with *matplotlib*. So, let's import the library.  \n\nBut wait! It's actually rather huge, so let's just important one sub-section of it, called *pyplot* usind the code below.  You'll notice that *pyplot* has been abbreviated to *plt*.  You can abbreviate it to anything you want, but most of the examples online will use *plt* so its best to go with convention."
    },
    {
      "metadata": {
        "trusted": true
      },
      "cell_type": "code",
      "source": "from matplotlib import pyplot as plt",
      "execution_count": 4,
      "outputs": [
        {
          "output_type": "stream",
          "text": "/home/nbuser/anaconda3_420/lib/python3.5/site-packages/matplotlib/font_manager.py:281: UserWarning: Matplotlib is building the font cache using fc-list. This may take a moment.\n  'Matplotlib is building the font cache using fc-list. '\n",
          "name": "stderr"
        }
      ]
    },
    {
      "metadata": {},
      "cell_type": "markdown",
      "source": "So, were do we begin! Before we make our heat map, let us create a simple graph, just so we can understand the format.\n\nFirst, create a new figure and give it a size (in inches)\n    \n    plt.figure(figsize=(x,y)) \n    \nBecause we are using a Jupyter Notebook, it will scale down if its too large for the window, put in the computer's memory it will be full size.\n\nNext, let's create some points.\n\n    plt.scatter([xa,xb,xc],[ya,yb,yc], label='A') \n\nThis will create 3 points.  They will take their *x* and *y* coordinates from a particular position within each of these two lists, for example (xa,ya).  All three will be the same colour with label 'A'.  If you want other colours/labels, you'll need a separate entry (plt.scatter) for each one.\n\nIf you want to limit how big the x and y axis are you can use\n\n    plt.xlim(xs,xe)\n    plt.ylim(ys,ye)\n    \nWhere xs is the first number and xe the last.\n\nYou can also chose where the \"ticks\" or hash marks are up the side.\n\n    plt.yticks([xa,xb,xc])\n    plt.xticks([ya,yb,yc])\n\nFinally, you can add those little final touches, such as a title for the chart\n\n    plt.title('My title')\n    \nand a legend (with its location)\n    \n    plt.legend(loc=\"upper right\")\n    \nThis is finished up by displaying the figure and then closing it (removing it from memory so you can do another)\n    \n    plt.show()\n    plt.close()\n"
    },
    {
      "metadata": {
        "trusted": true
      },
      "cell_type": "code",
      "source": "# instantiate the figure\nplt.figure(figsize=(10,5)) \n\n# plot points\nplt.bar([1,5,6],[2,4,1], label='A', color = 'red') \nplt.bar([2],[1], label='B', color = 'blue') \nplt.bar([1,3],[4,1], label='C', color = 'black') \n\n# set axis limits\nplt.xlim(0,10)\nplt.ylim(0,5)\n\n# set axis tick marks\nplt.yticks([2,4,6,8,10])\nplt.xticks([1,3,5,7,9])\n\n# set title\nplt.title('My title')\n\n# set legend location\nplt.legend(loc=\"upper center\")\n\n# show chart\nplt.show()\n\n# close down chart\nplt.close()",
      "execution_count": 5,
      "outputs": [
        {
          "output_type": "display_data",
          "data": {
            "image/png": "[encoded data removed]",
            "text/plain": "<matplotlib.figure.Figure at 0x7f0bddc8db70>"
          },
          "metadata": {}
        }
      ]
    },
    {
      "metadata": {},
      "cell_type": "markdown",
      "source": "Isn't that great?  You can do the same thing with `plt.bar` for bar charts or `plt.plot` for line charts.  You can also add the parameter `color = 'red'` to chose the colour you want! There are so many aspects you can tweak, see (www.matplotlib.org), but for now, have a play with the code above until you understand all the components listed here."
    },
    {
      "metadata": {},
      "cell_type": "markdown",
      "source": "Now onto the work at hand.  We want to create a heatmap (a bar code in this case) of all the instances of a certain word in our text. We can do this by making a bar chart where all the bars are the same height (lateral thinking!)\n\nSo what information do we need to do this. First, we need to know what the most common word(s) in our word list are.  We have a dictionary of every work and a list of all the instances of it.  By going through our dictionary and using the *len* function, we can determine which one has the larger list (the most instances).  \n\nLet's start with the assumption that at least 1 word as at least 1 instance.  So create a *value* variable with a value of 1, then go through our whole dictionary (using a for loop and the `.items()` function) and check if the length of each list is bigger or smaller than our starting value. If it is, change the value of *value* to the new length (otherwise do nothing). At the end of our loop, value will be an integer representing the longest list in your dictionary.  Use the print command to find out what it is."
    },
    {
      "metadata": {
        "trusted": true
      },
      "cell_type": "code",
      "source": "# create a value variable with a value of 1\n\n\n# create for loop through your dictionary\n\n\n    # if the length of the current word's list is greater than value\n    \n                \n        #update the value of value\n        \n\n# print the final value\n\n",
      "execution_count": 25,
      "outputs": []
    },
    {
      "metadata": {},
      "cell_type": "markdown",
      "source": "That's a big number!  I bet it's `the`.  Don't you?  Now we need a smaller list of just the top 5 or 6 words, excluding the stop words.  So, let's create a new list for our top five and then, starting at our *value*, iterate through all the entries in our dictionary checking if that word\n    \n+ has the same number of instances of our current iterator (value)\n+ is not in the stop word list\n+ and that our top-five list isn't already full\n    \nIf all those conditions are met, add that word to our top-five list and then subtract one from our iterator (so we can look for the next most common word.\n\nThis system isn't perfect (can you see why?) but it'll do for our test.  Write and run your code below (it may take a minute!)"
    },
    {
      "metadata": {
        "trusted": true
      },
      "cell_type": "code",
      "source": "# create a blank list for your top five\n\n\n# create a while loop counting down to zero\n\n\n    # create a for loop to go through your dictionary\n    \n\n        # check if the length of the list (value) is the same as your current counter\n        # and check if your top five list is full\n        # and check that the word isn't in the stop list\n        \n        \n            # append the word to your top five list\n            \n            \n    # subtract one from the counter\n    \n    \n# print your top five list\n\n",
      "execution_count": 26,
      "outputs": []
    },
    {
      "metadata": {},
      "cell_type": "markdown",
      "source": "Now we have our list of the five most commonwords (did you print to see what they were?)\n\nThe last step is to make our chart.  Now, we don't want to make each bar individually (that would take too long!)  Instead, make a small for loop to automatically populate your five words.\n\n+ create a for loop to go through your top five words\n    + go through every word in your dictionary\n        + if the word in the dictionary is the same as your word in the top five list\n            + create a bar\n            \nThat bar should use variables! So instead of the *x*, use the list (value) in your dictionary and the label should be your word (key). You can make *y* whatever you like, but I would suggest 1 for simplicity sake. You'll also probably wnat to add a `width=10`.  Remember, your text could be tens of thousands of words long, so a single line might be impossible to see!\n\nWhat about the `xlim`?  Remember when we checked for the wordcount of our whole document?  That seems good length for the x-axis.\n\nYou can also use blank lists for the `xticks` and `yticks`.  You don't need them!\n\nOnce you've titled your chart and placed your legend, run your code below."
    },
    {
      "metadata": {
        "trusted": true
      },
      "cell_type": "code",
      "source": "# instantiate the figure\n\n# create a for loop for your top five items\n\n    # create a for loop to go through your dictionary\n        \n        # if the word in your top five matches the word in your dictionary\n    \n            # create a bar plot using the dictionary value as x, 1 as the y, the word as the label, and a width of 10\n\n# set the limits of the x-axis\n\n# set the tick marks on the x and y-axes\n\n# set the chart title\n\n# set the legend placement\n\n# show the chart\n\n# close the chart\n",
      "execution_count": 27,
      "outputs": []
    },
    {
      "metadata": {},
      "cell_type": "markdown",
      "source": "Snazzy!  Now, maybe that's too much information. Maybe you just want one word at a time, take the code from your last three boxes and combine it below, changing your variable to make different types of charts below.  "
    },
    {
      "metadata": {
        "trusted": true
      },
      "cell_type": "code",
      "source": "",
      "execution_count": null,
      "outputs": []
    },
    {
      "metadata": {},
      "cell_type": "markdown",
      "source": "Well done!"
    }
  ],
  "metadata": {
    "kernelspec": {
      "name": "python3",
      "display_name": "Python 3",
      "language": "python"
    },
    "language_info": {
      "mimetype": "text/x-python",
      "nbconvert_exporter": "python",
      "name": "python",
      "pygments_lexer": "ipython3",
      "version": "3.5.4",
      "file_extension": ".py",
      "codemirror_mode": {
        "version": 3,
        "name": "ipython"
      }
    }
  },
  "nbformat": 4,
  "nbformat_minor": 2
}